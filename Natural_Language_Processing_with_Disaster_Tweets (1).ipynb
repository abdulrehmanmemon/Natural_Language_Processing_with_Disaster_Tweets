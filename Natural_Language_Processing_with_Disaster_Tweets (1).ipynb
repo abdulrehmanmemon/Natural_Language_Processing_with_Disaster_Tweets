{
  "nbformat": 4,
  "nbformat_minor": 0,
  "metadata": {
    "colab": {
      "provenance": [],
      "collapsed_sections": []
    },
    "kernelspec": {
      "name": "python3",
      "display_name": "Python 3"
    },
    "language_info": {
      "name": "python"
    },
    "accelerator": "GPU",
    "gpuClass": "standard"
  },
  "cells": [
    {
      "cell_type": "markdown",
      "source": [
        "#Natural Language Processing with Disaster Tweets\n",
        "##Problem Definition\n",
        "**Predict which Tweets are about real disasters and which ones are not**\n",
        "##Data\n",
        "**got this Dataset from Kaggle:**\n",
        "https://www.kaggle.com/competitions/nlp-getting-started/overview\n",
        "##Evaluation \n",
        "1. Classification Report\n",
        "2. Confusion Matrix\n",
        "3. Accuracy\n"
      ],
      "metadata": {
        "id": "tpDwj0F3I8Bq"
      }
    },
    {
      "cell_type": "code",
      "source": [
        "#Lets import libraries\n",
        "import pandas as pd\n",
        "import numpy as np\n",
        "import matplotlib.pyplot as plt\n",
        "import seaborn as sns\n",
        "import tensorflow as tf"
      ],
      "metadata": {
        "id": "LINPP29hJy2U"
      },
      "execution_count": null,
      "outputs": []
    },
    {
      "cell_type": "code",
      "source": [
        "import tensorflow_text as text"
      ],
      "metadata": {
        "id": "MY1SiVQqNdwl",
        "colab": {
          "base_uri": "https://localhost:8080/",
          "height": 304
        },
        "outputId": "44e9ad54-aff0-47d6-8bf7-f50ebedf7810"
      },
      "execution_count": null,
      "outputs": [
        {
          "output_type": "error",
          "ename": "ModuleNotFoundError",
          "evalue": "ignored",
          "traceback": [
            "\u001b[0;31m---------------------------------------------------------------------------\u001b[0m",
            "\u001b[0;31mModuleNotFoundError\u001b[0m                       Traceback (most recent call last)",
            "\u001b[0;32m<ipython-input-3-9495cdc7fbed>\u001b[0m in \u001b[0;36m<module>\u001b[0;34m\u001b[0m\n\u001b[0;32m----> 1\u001b[0;31m \u001b[0;32mimport\u001b[0m \u001b[0mtensorflow_text\u001b[0m \u001b[0;32mas\u001b[0m \u001b[0mtext\u001b[0m\u001b[0;34m\u001b[0m\u001b[0;34m\u001b[0m\u001b[0m\n\u001b[0m",
            "\u001b[0;31mModuleNotFoundError\u001b[0m: No module named 'tensorflow_text'",
            "",
            "\u001b[0;31m---------------------------------------------------------------------------\u001b[0;32m\nNOTE: If your import is failing due to a missing package, you can\nmanually install dependencies using either !pip or !apt.\n\nTo view examples of installing some common dependencies, click the\n\"Open Examples\" button below.\n\u001b[0;31m---------------------------------------------------------------------------\u001b[0m\n"
          ],
          "errorDetails": {
            "actions": [
              {
                "action": "open_url",
                "actionText": "Open Examples",
                "url": "/notebooks/snippets/importing_libraries.ipynb"
              }
            ]
          }
        }
      ]
    },
    {
      "cell_type": "code",
      "source": [
        "import tensorflow_hub as hub"
      ],
      "metadata": {
        "id": "3dxgNxBuKuxN"
      },
      "execution_count": null,
      "outputs": []
    },
    {
      "cell_type": "code",
      "source": [
        "df=pd.read_csv('drive/MyDrive/Natural Language Processing with Disaster Tweets/train.csv')\n",
        "df.head()"
      ],
      "metadata": {
        "id": "ggEr_CheK55x"
      },
      "execution_count": null,
      "outputs": []
    },
    {
      "cell_type": "code",
      "source": [
        "df['text'][4000]"
      ],
      "metadata": {
        "id": "J5oSZTY_L6Uu"
      },
      "execution_count": null,
      "outputs": []
    },
    {
      "cell_type": "code",
      "source": [
        "df['target'].value_counts()"
      ],
      "metadata": {
        "id": "MXd6doITMGC1"
      },
      "execution_count": null,
      "outputs": []
    },
    {
      "cell_type": "code",
      "source": [
        "X=df.drop('target',axis=1)\n",
        "Y=df['target']"
      ],
      "metadata": {
        "id": "epso0GFmO5eL"
      },
      "execution_count": null,
      "outputs": []
    },
    {
      "cell_type": "code",
      "source": [
        "from imblearn.under_sampling import RandomUnderSampler\n",
        "rus = RandomUnderSampler(random_state=42)\n",
        "x, y = rus.fit_resample(X, Y)"
      ],
      "metadata": {
        "id": "rS5LFB_eN2QZ"
      },
      "execution_count": null,
      "outputs": []
    },
    {
      "cell_type": "code",
      "source": [
        "y.value_counts()"
      ],
      "metadata": {
        "id": "MvZNpn4DPJMv"
      },
      "execution_count": null,
      "outputs": []
    },
    {
      "cell_type": "code",
      "source": [
        "from sklearn.model_selection import train_test_split\n",
        "\n",
        "X_train, X_test, y_train, y_test = train_test_split(x['text'],y, stratify=y,random_state=42)"
      ],
      "metadata": {
        "id": "XduiTGCdPt0X"
      },
      "execution_count": null,
      "outputs": []
    },
    {
      "cell_type": "code",
      "source": [
        "X_train.head()"
      ],
      "metadata": {
        "id": "hb2QwbKJQJMd"
      },
      "execution_count": null,
      "outputs": []
    },
    {
      "cell_type": "code",
      "source": [
        "bert_preprocess = hub.KerasLayer(\"https://tfhub.dev/tensorflow/bert_en_uncased_preprocess/3\")\n",
        "bert_encoder = hub.KerasLayer(\"https://tfhub.dev/tensorflow/bert_en_uncased_L-12_H-768_A-12/4\")"
      ],
      "metadata": {
        "id": "LEe3NaREQOua"
      },
      "execution_count": null,
      "outputs": []
    },
    {
      "cell_type": "code",
      "source": [
        "def get_sentence_embeding(sentences):\n",
        "    preprocessed_text = bert_preprocess(sentences)\n",
        "    return bert_encoder(preprocessed_text)['pooled_output']"
      ],
      "metadata": {
        "id": "FGzafXA_QUOB"
      },
      "execution_count": null,
      "outputs": []
    },
    {
      "cell_type": "code",
      "source": [
        "# Bert layers\n",
        "text_input = tf.keras.layers.Input(shape=(), dtype=tf.string, name='text')\n",
        "preprocessed_text = bert_preprocess(text_input)\n",
        "outputs = bert_encoder(preprocessed_text)\n",
        "\n",
        "# Neural network layers\n",
        "l = tf.keras.layers.Dropout(0.1, name=\"dropout\")(outputs['pooled_output'])\n",
        "l = tf.keras.layers.Dense(1, activation='sigmoid', name=\"output\")(l)\n",
        "\n",
        "# Use inputs and outputs to construct a final model\n",
        "model = tf.keras.Model(inputs=[text_input], outputs = [l])"
      ],
      "metadata": {
        "id": "LgnXWO1wQbLP"
      },
      "execution_count": null,
      "outputs": []
    },
    {
      "cell_type": "code",
      "source": [
        "model.summary()"
      ],
      "metadata": {
        "id": "Lfw4e5LKQpHN"
      },
      "execution_count": null,
      "outputs": []
    },
    {
      "cell_type": "code",
      "source": [
        "METRICS = [\n",
        "      tf.keras.metrics.BinaryAccuracy(name='accuracy'),\n",
        "      tf.keras.metrics.Precision(name='precision'),\n",
        "      tf.keras.metrics.Recall(name='recall')\n",
        "]\n",
        "\n",
        "model.compile(optimizer='adam',\n",
        "              loss='binary_crossentropy',\n",
        "              metrics=METRICS)\n"
      ],
      "metadata": {
        "id": "JB8PgAoHQsAD"
      },
      "execution_count": null,
      "outputs": []
    },
    {
      "cell_type": "code",
      "source": [
        "model.fit(X_train, y_train, epochs=100)"
      ],
      "metadata": {
        "colab": {
          "base_uri": "https://localhost:8080/"
        },
        "id": "XjTrm7alQzKd",
        "outputId": "e41ec0b8-2c2d-4802-cedb-802a1caac474"
      },
      "execution_count": null,
      "outputs": [
        {
          "output_type": "stream",
          "name": "stdout",
          "text": [
            "Epoch 1/100\n",
            "154/154 [==============================] - 59s 313ms/step - loss: 0.6423 - accuracy: 0.6368 - precision: 0.6343 - recall: 0.6461\n",
            "Epoch 2/100\n",
            "154/154 [==============================] - 52s 338ms/step - loss: 0.6068 - accuracy: 0.6875 - precision: 0.6874 - recall: 0.6877\n",
            "Epoch 3/100\n",
            "154/154 [==============================] - 52s 336ms/step - loss: 0.5942 - accuracy: 0.6953 - precision: 0.6950 - recall: 0.6959\n",
            "Epoch 4/100\n",
            "154/154 [==============================] - 52s 340ms/step - loss: 0.5838 - accuracy: 0.7018 - precision: 0.7047 - recall: 0.6947\n",
            "Epoch 5/100\n",
            "154/154 [==============================] - 52s 336ms/step - loss: 0.5711 - accuracy: 0.7102 - precision: 0.7128 - recall: 0.7040\n",
            "Epoch 6/100\n",
            "154/154 [==============================] - 52s 338ms/step - loss: 0.5653 - accuracy: 0.7140 - precision: 0.7178 - recall: 0.7053\n",
            "Epoch 7/100\n",
            "154/154 [==============================] - 52s 340ms/step - loss: 0.5690 - accuracy: 0.7030 - precision: 0.7080 - recall: 0.6910\n",
            "Epoch 8/100\n",
            "154/154 [==============================] - 52s 340ms/step - loss: 0.5582 - accuracy: 0.7203 - precision: 0.7289 - recall: 0.7016\n",
            "Epoch 9/100\n",
            "154/154 [==============================] - 52s 340ms/step - loss: 0.5570 - accuracy: 0.7232 - precision: 0.7284 - recall: 0.7118\n",
            "Epoch 10/100\n",
            "154/154 [==============================] - 52s 339ms/step - loss: 0.5470 - accuracy: 0.7354 - precision: 0.7413 - recall: 0.7232\n",
            "Epoch 11/100\n",
            "154/154 [==============================] - 52s 338ms/step - loss: 0.5453 - accuracy: 0.7291 - precision: 0.7340 - recall: 0.7187\n",
            "Epoch 12/100\n",
            "154/154 [==============================] - 52s 340ms/step - loss: 0.5458 - accuracy: 0.7326 - precision: 0.7416 - recall: 0.7138\n",
            "Epoch 13/100\n",
            "154/154 [==============================] - 53s 342ms/step - loss: 0.5486 - accuracy: 0.7271 - precision: 0.7356 - recall: 0.7089\n",
            "Epoch 14/100\n",
            "154/154 [==============================] - 53s 341ms/step - loss: 0.5434 - accuracy: 0.7352 - precision: 0.7426 - recall: 0.7199\n",
            "Epoch 15/100\n",
            "154/154 [==============================] - 53s 342ms/step - loss: 0.5361 - accuracy: 0.7448 - precision: 0.7576 - recall: 0.7199\n",
            "Epoch 16/100\n",
            "154/154 [==============================] - 53s 341ms/step - loss: 0.5336 - accuracy: 0.7405 - precision: 0.7489 - recall: 0.7236\n",
            "Epoch 17/100\n",
            "154/154 [==============================] - 52s 340ms/step - loss: 0.5328 - accuracy: 0.7411 - precision: 0.7529 - recall: 0.7179\n",
            "Epoch 18/100\n",
            "154/154 [==============================] - 52s 341ms/step - loss: 0.5365 - accuracy: 0.7413 - precision: 0.7517 - recall: 0.7208\n",
            "Epoch 19/100\n",
            "154/154 [==============================] - 53s 343ms/step - loss: 0.5275 - accuracy: 0.7487 - precision: 0.7580 - recall: 0.7305\n",
            "Epoch 20/100\n",
            "154/154 [==============================] - 53s 341ms/step - loss: 0.5278 - accuracy: 0.7452 - precision: 0.7522 - recall: 0.7313\n",
            "Epoch 21/100\n",
            "154/154 [==============================] - 53s 342ms/step - loss: 0.5278 - accuracy: 0.7446 - precision: 0.7538 - recall: 0.7265\n",
            "Epoch 22/100\n",
            "154/154 [==============================] - 53s 342ms/step - loss: 0.5324 - accuracy: 0.7377 - precision: 0.7475 - recall: 0.7179\n",
            "Epoch 23/100\n",
            "154/154 [==============================] - 52s 339ms/step - loss: 0.5242 - accuracy: 0.7511 - precision: 0.7619 - recall: 0.7305\n",
            "Epoch 24/100\n",
            "154/154 [==============================] - 53s 342ms/step - loss: 0.5181 - accuracy: 0.7581 - precision: 0.7717 - recall: 0.7330\n",
            "Epoch 25/100\n",
            "154/154 [==============================] - 53s 342ms/step - loss: 0.5214 - accuracy: 0.7534 - precision: 0.7646 - recall: 0.7322\n",
            "Epoch 26/100\n",
            "154/154 [==============================] - 53s 342ms/step - loss: 0.5233 - accuracy: 0.7460 - precision: 0.7571 - recall: 0.7244\n",
            "Epoch 27/100\n",
            "154/154 [==============================] - 52s 339ms/step - loss: 0.5181 - accuracy: 0.7601 - precision: 0.7699 - recall: 0.7419\n",
            "Epoch 28/100\n",
            "154/154 [==============================] - 52s 340ms/step - loss: 0.5159 - accuracy: 0.7593 - precision: 0.7720 - recall: 0.7358\n",
            "Epoch 29/100\n",
            "154/154 [==============================] - 52s 340ms/step - loss: 0.5144 - accuracy: 0.7511 - precision: 0.7626 - recall: 0.7293\n",
            "Epoch 30/100\n",
            "154/154 [==============================] - 52s 339ms/step - loss: 0.5196 - accuracy: 0.7552 - precision: 0.7671 - recall: 0.7330\n",
            "Epoch 31/100\n",
            "154/154 [==============================] - 52s 338ms/step - loss: 0.5170 - accuracy: 0.7505 - precision: 0.7618 - recall: 0.7289\n",
            "Epoch 32/100\n",
            "154/154 [==============================] - 52s 338ms/step - loss: 0.5204 - accuracy: 0.7566 - precision: 0.7644 - recall: 0.7419\n",
            "Epoch 33/100\n",
            "154/154 [==============================] - 52s 340ms/step - loss: 0.5181 - accuracy: 0.7517 - precision: 0.7658 - recall: 0.7252\n",
            "Epoch 34/100\n",
            "154/154 [==============================] - 52s 338ms/step - loss: 0.5146 - accuracy: 0.7566 - precision: 0.7655 - recall: 0.7399\n",
            "Epoch 35/100\n",
            "154/154 [==============================] - 52s 337ms/step - loss: 0.5174 - accuracy: 0.7538 - precision: 0.7632 - recall: 0.7358\n",
            "Epoch 36/100\n",
            "154/154 [==============================] - 52s 336ms/step - loss: 0.5165 - accuracy: 0.7595 - precision: 0.7705 - recall: 0.7391\n",
            "Epoch 37/100\n",
            "154/154 [==============================] - 52s 338ms/step - loss: 0.5120 - accuracy: 0.7576 - precision: 0.7678 - recall: 0.7387\n",
            "Epoch 38/100\n",
            "154/154 [==============================] - 52s 341ms/step - loss: 0.5147 - accuracy: 0.7593 - precision: 0.7668 - recall: 0.7452\n",
            "Epoch 39/100\n",
            "154/154 [==============================] - 52s 341ms/step - loss: 0.5147 - accuracy: 0.7556 - precision: 0.7691 - recall: 0.7305\n",
            "Epoch 40/100\n",
            "154/154 [==============================] - 52s 337ms/step - loss: 0.5178 - accuracy: 0.7521 - precision: 0.7624 - recall: 0.7326\n",
            "Epoch 41/100\n",
            "154/154 [==============================] - 52s 338ms/step - loss: 0.5089 - accuracy: 0.7572 - precision: 0.7743 - recall: 0.7260\n",
            "Epoch 42/100\n",
            "154/154 [==============================] - 52s 337ms/step - loss: 0.5062 - accuracy: 0.7607 - precision: 0.7732 - recall: 0.7379\n",
            "Epoch 43/100\n",
            "154/154 [==============================] - 52s 339ms/step - loss: 0.5054 - accuracy: 0.7576 - precision: 0.7705 - recall: 0.7338\n",
            "Epoch 44/100\n",
            "154/154 [==============================] - 52s 339ms/step - loss: 0.5066 - accuracy: 0.7634 - precision: 0.7737 - recall: 0.7444\n",
            "Epoch 45/100\n",
            "154/154 [==============================] - 52s 337ms/step - loss: 0.5066 - accuracy: 0.7611 - precision: 0.7743 - recall: 0.7371\n",
            "Epoch 46/100\n",
            "154/154 [==============================] - 52s 339ms/step - loss: 0.5141 - accuracy: 0.7540 - precision: 0.7676 - recall: 0.7285\n",
            "Epoch 47/100\n",
            "154/154 [==============================] - 53s 341ms/step - loss: 0.5110 - accuracy: 0.7566 - precision: 0.7648 - recall: 0.7411\n",
            "Epoch 48/100\n",
            "154/154 [==============================] - 53s 343ms/step - loss: 0.5081 - accuracy: 0.7544 - precision: 0.7683 - recall: 0.7285\n",
            "Epoch 49/100\n",
            "154/154 [==============================] - 52s 340ms/step - loss: 0.5099 - accuracy: 0.7558 - precision: 0.7653 - recall: 0.7379\n",
            "Epoch 50/100\n",
            "154/154 [==============================] - 53s 343ms/step - loss: 0.5099 - accuracy: 0.7521 - precision: 0.7651 - recall: 0.7277\n",
            "Epoch 51/100\n",
            "154/154 [==============================] - 53s 341ms/step - loss: 0.5055 - accuracy: 0.7627 - precision: 0.7739 - recall: 0.7424\n",
            "Epoch 52/100\n",
            "154/154 [==============================] - 53s 341ms/step - loss: 0.5077 - accuracy: 0.7648 - precision: 0.7753 - recall: 0.7456\n",
            "Epoch 53/100\n",
            "154/154 [==============================] - 53s 342ms/step - loss: 0.5047 - accuracy: 0.7625 - precision: 0.7766 - recall: 0.7371\n",
            "Epoch 54/100\n",
            "154/154 [==============================] - 53s 342ms/step - loss: 0.5060 - accuracy: 0.7636 - precision: 0.7776 - recall: 0.7383\n",
            "Epoch 55/100\n",
            "154/154 [==============================] - 53s 344ms/step - loss: 0.5127 - accuracy: 0.7546 - precision: 0.7641 - recall: 0.7366\n",
            "Epoch 56/100\n",
            "154/154 [==============================] - 53s 343ms/step - loss: 0.5159 - accuracy: 0.7536 - precision: 0.7631 - recall: 0.7354\n",
            "Epoch 57/100\n",
            "154/154 [==============================] - 53s 345ms/step - loss: 0.5105 - accuracy: 0.7589 - precision: 0.7664 - recall: 0.7448\n",
            "Epoch 58/100\n",
            "154/154 [==============================] - 52s 340ms/step - loss: 0.5051 - accuracy: 0.7587 - precision: 0.7706 - recall: 0.7366\n",
            "Epoch 59/100\n",
            "154/154 [==============================] - 52s 341ms/step - loss: 0.5040 - accuracy: 0.7615 - precision: 0.7685 - recall: 0.7485\n",
            "Epoch 60/100\n",
            "154/154 [==============================] - 52s 337ms/step - loss: 0.5044 - accuracy: 0.7615 - precision: 0.7736 - recall: 0.7395\n",
            "Epoch 61/100\n",
            "154/154 [==============================] - 53s 343ms/step - loss: 0.5013 - accuracy: 0.7668 - precision: 0.7801 - recall: 0.7432\n",
            "Epoch 62/100\n",
            "154/154 [==============================] - 53s 343ms/step - loss: 0.5055 - accuracy: 0.7617 - precision: 0.7744 - recall: 0.7387\n",
            "Epoch 63/100\n",
            "154/154 [==============================] - 53s 344ms/step - loss: 0.5116 - accuracy: 0.7515 - precision: 0.7623 - recall: 0.7309\n",
            "Epoch 64/100\n",
            "154/154 [==============================] - 53s 344ms/step - loss: 0.5122 - accuracy: 0.7542 - precision: 0.7679 - recall: 0.7285\n",
            "Epoch 65/100\n",
            "154/154 [==============================] - 53s 343ms/step - loss: 0.5098 - accuracy: 0.7587 - precision: 0.7701 - recall: 0.7375\n",
            "Epoch 66/100\n",
            "154/154 [==============================] - 53s 345ms/step - loss: 0.5068 - accuracy: 0.7609 - precision: 0.7698 - recall: 0.7444\n",
            "Epoch 67/100\n",
            "154/154 [==============================] - 53s 342ms/step - loss: 0.5096 - accuracy: 0.7554 - precision: 0.7697 - recall: 0.7289\n",
            "Epoch 68/100\n",
            "154/154 [==============================] - 53s 344ms/step - loss: 0.5024 - accuracy: 0.7611 - precision: 0.7731 - recall: 0.7391\n",
            "Epoch 69/100\n",
            "154/154 [==============================] - 53s 342ms/step - loss: 0.5073 - accuracy: 0.7658 - precision: 0.7749 - recall: 0.7493\n",
            "Epoch 70/100\n",
            "154/154 [==============================] - 53s 344ms/step - loss: 0.5119 - accuracy: 0.7523 - precision: 0.7605 - recall: 0.7366\n",
            "Epoch 71/100\n",
            "154/154 [==============================] - 52s 341ms/step - loss: 0.5012 - accuracy: 0.7646 - precision: 0.7752 - recall: 0.7452\n",
            "Epoch 72/100\n",
            "154/154 [==============================] - 53s 342ms/step - loss: 0.4978 - accuracy: 0.7711 - precision: 0.7820 - recall: 0.7517\n",
            "Epoch 73/100\n",
            "154/154 [==============================] - 52s 339ms/step - loss: 0.5054 - accuracy: 0.7634 - precision: 0.7773 - recall: 0.7383\n",
            "Epoch 74/100\n",
            "154/154 [==============================] - 52s 340ms/step - loss: 0.5077 - accuracy: 0.7634 - precision: 0.7740 - recall: 0.7440\n",
            "Epoch 75/100\n",
            "154/154 [==============================] - 52s 338ms/step - loss: 0.5078 - accuracy: 0.7570 - precision: 0.7698 - recall: 0.7334\n",
            "Epoch 76/100\n",
            "154/154 [==============================] - 52s 340ms/step - loss: 0.5068 - accuracy: 0.7619 - precision: 0.7738 - recall: 0.7403\n",
            "Epoch 77/100\n",
            "154/154 [==============================] - 52s 339ms/step - loss: 0.5031 - accuracy: 0.7662 - precision: 0.7732 - recall: 0.7534\n",
            "Epoch 78/100\n",
            "154/154 [==============================] - 52s 340ms/step - loss: 0.5058 - accuracy: 0.7642 - precision: 0.7784 - recall: 0.7387\n",
            "Epoch 79/100\n",
            "154/154 [==============================] - 52s 341ms/step - loss: 0.5028 - accuracy: 0.7668 - precision: 0.7782 - recall: 0.7464\n",
            "Epoch 80/100\n",
            "154/154 [==============================] - 53s 341ms/step - loss: 0.4999 - accuracy: 0.7658 - precision: 0.7786 - recall: 0.7428\n",
            "Epoch 81/100\n",
            "154/154 [==============================] - 53s 341ms/step - loss: 0.5007 - accuracy: 0.7648 - precision: 0.7784 - recall: 0.7403\n",
            "Epoch 82/100\n",
            "154/154 [==============================] - 53s 344ms/step - loss: 0.5023 - accuracy: 0.7601 - precision: 0.7762 - recall: 0.7309\n",
            "Epoch 83/100\n",
            "154/154 [==============================] - 53s 342ms/step - loss: 0.5064 - accuracy: 0.7648 - precision: 0.7749 - recall: 0.7464\n",
            "Epoch 84/100\n",
            "154/154 [==============================] - 53s 341ms/step - loss: 0.5074 - accuracy: 0.7560 - precision: 0.7645 - recall: 0.7399\n",
            "Epoch 85/100\n",
            "154/154 [==============================] - 52s 339ms/step - loss: 0.5093 - accuracy: 0.7613 - precision: 0.7682 - recall: 0.7485\n",
            "Epoch 86/100\n",
            "154/154 [==============================] - 52s 340ms/step - loss: 0.5021 - accuracy: 0.7631 - precision: 0.7781 - recall: 0.7362\n",
            "Epoch 87/100\n",
            "154/154 [==============================] - 53s 342ms/step - loss: 0.4996 - accuracy: 0.7662 - precision: 0.7793 - recall: 0.7428\n",
            "Epoch 88/100\n",
            "154/154 [==============================] - 53s 342ms/step - loss: 0.5004 - accuracy: 0.7658 - precision: 0.7791 - recall: 0.7419\n",
            "Epoch 89/100\n",
            "154/154 [==============================] - 53s 341ms/step - loss: 0.4967 - accuracy: 0.7652 - precision: 0.7732 - recall: 0.7505\n",
            "Epoch 90/100\n",
            "154/154 [==============================] - 53s 341ms/step - loss: 0.5075 - accuracy: 0.7607 - precision: 0.7711 - recall: 0.7415\n",
            "Epoch 91/100\n",
            "154/154 [==============================] - 52s 340ms/step - loss: 0.5120 - accuracy: 0.7566 - precision: 0.7684 - recall: 0.7346\n",
            "Epoch 92/100\n",
            "154/154 [==============================] - 53s 344ms/step - loss: 0.5009 - accuracy: 0.7678 - precision: 0.7779 - recall: 0.7497\n",
            "Epoch 93/100\n",
            "154/154 [==============================] - 53s 342ms/step - loss: 0.5027 - accuracy: 0.7674 - precision: 0.7773 - recall: 0.7497\n",
            "Epoch 94/100\n",
            "154/154 [==============================] - 53s 344ms/step - loss: 0.5035 - accuracy: 0.7613 - precision: 0.7765 - recall: 0.7338\n",
            "Epoch 95/100\n",
            "154/154 [==============================] - 52s 339ms/step - loss: 0.5085 - accuracy: 0.7556 - precision: 0.7641 - recall: 0.7395\n",
            "Epoch 96/100\n",
            "154/154 [==============================] - 53s 344ms/step - loss: 0.5036 - accuracy: 0.7572 - precision: 0.7701 - recall: 0.7334\n",
            "Epoch 97/100\n",
            "154/154 [==============================] - 52s 340ms/step - loss: 0.5041 - accuracy: 0.7660 - precision: 0.7754 - recall: 0.7489\n",
            "Epoch 98/100\n",
            "154/154 [==============================] - 53s 344ms/step - loss: 0.5052 - accuracy: 0.7619 - precision: 0.7768 - recall: 0.7350\n",
            "Epoch 99/100\n",
            "154/154 [==============================] - 52s 340ms/step - loss: 0.5080 - accuracy: 0.7619 - precision: 0.7705 - recall: 0.7460\n",
            "Epoch 100/100\n",
            "154/154 [==============================] - 52s 341ms/step - loss: 0.5128 - accuracy: 0.7601 - precision: 0.7736 - recall: 0.7354\n"
          ]
        },
        {
          "output_type": "execute_result",
          "data": {
            "text/plain": [
              "<keras.callbacks.History at 0x7fb0648b3950>"
            ]
          },
          "metadata": {},
          "execution_count": 24
        }
      ]
    },
    {
      "cell_type": "code",
      "source": [],
      "metadata": {
        "id": "bCaqFf7IQ2WD"
      },
      "execution_count": null,
      "outputs": []
    }
  ]
}